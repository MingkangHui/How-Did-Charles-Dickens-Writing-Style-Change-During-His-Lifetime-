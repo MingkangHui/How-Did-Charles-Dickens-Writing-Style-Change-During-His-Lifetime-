{
 "cells": [
  {
   "cell_type": "markdown",
   "metadata": {},
   "source": [
    "# How Did Charles Dickens' Writing Style Change During His Lifetime \n",
    "\n",
    "## Mingkang Hui  \n",
    "\n",
    "2019.8.18  \n",
    "\n",
    "Introduction to Computational Literary Analysis\n",
    "UC-Berkeley, Summer 2019\n",
    "Instructor: Jonathan Reeve\n"
   ]
  },
  {
   "cell_type": "markdown",
   "metadata": {},
   "source": [
    "\n",
    "\n",
    "My project is based on famous works of Charles Dickens, I will retrieve his works from corpus.db(project guttenburg) and get the publish dates of those books and sort them by their publishtime. In this way, we could calculate several attributes of each book and arrange them in a time sequence to find out that whether Charles Dickens has changed through the years, and whether his change has some certain kinds of trend, this project may also discover his certain kind of genre during his whole life. I retrieved 20 famous books of Charles Dickens, including prose, stories, novels and even an history book for child. Then I will analysis the type token ratio, readability and other attributes may show how well Charles Dickens has arrange his words. My project also involves some sentiments analysis to find whether the style of writing has changed during Charles Dickens life, and whether there is any trend in his life.  \n",
    "\n",
    "\n",
    "I had several hypothesis before I started the project. Some of them are just based on people's ideas about Charles Dickens, like people always say that Charles Dickens' work get darker and more miserable when he grew old, so I decided to run some analysis of sentiments for each book to find out whether there is a trend about that.  \n",
    "\n",
    "And I also get an hypothesis(that is basicaly my guess) that Charles Dickens' works get harder to read for he got mature as an author during his life, and he would tend to use more difficult words and elegant paragraphs, which make it harder to read(in other words, that may demands people who read his works has better educational background).  \n",
    "\n",
    "My final hypothesis is about his attitude toward material, or in other words, the material world. Some scholars say that Charles Dickens got kind of cynical when he got old and there was a trend that Charles Dickens criticize more about money and higher classes of the society for he started to thought the wealth could lead to miserable life. So I would like to find out that whether there's a trend about that.\n",
    "\n",
    "## The Coding Part of My Project\n",
    "Here is the coding part of my project, I got all of my text from corpusDB and filtered the text to make sure I could get the exact book. Then I manually input the publish dates of 20 famous works of Charles Dickens. Then I stored them (for several times in different form) and calculate the type token ratio and readability of each book, finally I run several analysis about the sentiments of each books and gave plots about those attributes."
   ]
  },
  {
   "cell_type": "code",
   "execution_count": 1,
   "metadata": {},
   "outputs": [],
   "source": [
    "import spacy"
   ]
  },
  {
   "cell_type": "code",
   "execution_count": 2,
   "metadata": {},
   "outputs": [],
   "source": [
    "nlp = spacy.load('en_core_web_lg')"
   ]
  },
  {
   "cell_type": "code",
   "execution_count": 3,
   "metadata": {},
   "outputs": [],
   "source": [
    "import time\n"
   ]
  },
  {
   "cell_type": "code",
   "execution_count": 4,
   "metadata": {},
   "outputs": [],
   "source": [
    "import nltk\n",
    "import collections\n",
    "import pandas as pd\n",
    "import requests\n",
    "import json\n",
    "import numpy as np\n",
    "%matplotlib inline\n",
    "import sklearn # scikit-learn\n",
    "import nltk\n",
    "from sklearn.feature_extraction.text import TfidfVectorizer, CountVectorizer\n",
    "from sklearn.decomposition import PCA\n",
    "# Import a few new things for 3-D plotting. \n",
    "from mpl_toolkits.mplot3d import Axes3D, proj3d\n",
    "from matplotlib import pyplot as plt\n",
    "from nltk.corpus import cmudict\n",
    "from nltk.corpus import sentiwordnet as sw\n",
    "import pickle\n"
   ]
  },
  {
   "cell_type": "code",
   "execution_count": 5,
   "metadata": {},
   "outputs": [],
   "source": [
    "pca=PCA(n_components=2)"
   ]
  },
  {
   "cell_type": "code",
   "execution_count": 6,
   "metadata": {},
   "outputs": [],
   "source": [
    "pca3=PCA(n_components=3)  #for three dimensional plots"
   ]
  },
  {
   "cell_type": "code",
   "execution_count": 7,
   "metadata": {},
   "outputs": [],
   "source": [
    "url='http://corpus-db.org/api/author/Dickens, Charles'"
   ]
  },
  {
   "cell_type": "code",
   "execution_count": 8,
   "metadata": {},
   "outputs": [],
   "source": [
    "response=requests.get(url)"
   ]
  },
  {
   "cell_type": "code",
   "execution_count": 9,
   "metadata": {},
   "outputs": [
    {
     "data": {
      "text/plain": [
       "True"
      ]
     },
     "execution_count": 9,
     "metadata": {},
     "output_type": "execute_result"
    }
   ],
   "source": [
    "response.ok"
   ]
  },
  {
   "cell_type": "code",
   "execution_count": 10,
   "metadata": {},
   "outputs": [],
   "source": [
    "dickensMeta=json.loads(response.text)"
   ]
  },
  {
   "cell_type": "code",
   "execution_count": 11,
   "metadata": {},
   "outputs": [],
   "source": [
    "result=[]\n",
    "for meta in dickensMeta:\n",
    "    if 'en' in meta['languages']:            # to get the text in English\n",
    "        result.append(meta)"
   ]
  },
  {
   "cell_type": "code",
   "execution_count": 12,
   "metadata": {},
   "outputs": [
    {
     "data": {
      "text/plain": [
       "85"
      ]
     },
     "execution_count": 12,
     "metadata": {},
     "output_type": "execute_result"
    }
   ],
   "source": [
    "len(result)"
   ]
  },
  {
   "cell_type": "code",
   "execution_count": 13,
   "metadata": {},
   "outputs": [],
   "source": [
    "ids=[]\n",
    "for meta in result:\n",
    "    ids.append(meta['id'])"
   ]
  },
  {
   "cell_type": "code",
   "execution_count": 14,
   "metadata": {},
   "outputs": [],
   "source": [
    "dickenscorp=[]\n",
    "original_url=\"http://corpus-db.org/api/id/\"\n",
    "for i in ids:\n",
    "    changed_url=original_url+i+'/fulltext'  # we get all of the urls here!!!!\n",
    "    response=requests.get(changed_url)\n",
    "    time.sleep(1)\n",
    "    if response.ok:\n",
    "        dickenscorp.append(json.loads(response.text))"
   ]
  },
  {
   "cell_type": "code",
   "execution_count": 15,
   "metadata": {},
   "outputs": [
    {
     "data": {
      "text/plain": [
       "0"
      ]
     },
     "execution_count": 15,
     "metadata": {},
     "output_type": "execute_result"
    }
   ],
   "source": [
    "len(dickenscorp[4])"
   ]
  },
  {
   "cell_type": "code",
   "execution_count": 16,
   "metadata": {},
   "outputs": [],
   "source": [
    "filtered_dickens_corp=[]\n",
    "for work in dickenscorp:\n",
    "    if len(work)!=0:\n",
    "        filtered_dickens_corp.append(work)"
   ]
  },
  {
   "cell_type": "code",
   "execution_count": 17,
   "metadata": {},
   "outputs": [
    {
     "data": {
      "text/plain": [
       "56"
      ]
     },
     "execution_count": 17,
     "metadata": {},
     "output_type": "execute_result"
    }
   ],
   "source": [
    "len(filtered_dickens_corp)"
   ]
  },
  {
   "cell_type": "code",
   "execution_count": 18,
   "metadata": {},
   "outputs": [],
   "source": [
    "titles=[]\n",
    "for work in filtered_dickens_corp:\n",
    "    idt=float(work[0]['id'])\n",
    "    for info in dickensMeta:\n",
    "        if float(info['id'])==idt:\n",
    "            titles.append(info['title'])"
   ]
  },
  {
   "cell_type": "code",
   "execution_count": 19,
   "metadata": {},
   "outputs": [
    {
     "data": {
      "text/plain": [
       "56"
      ]
     },
     "execution_count": 19,
     "metadata": {},
     "output_type": "execute_result"
    }
   ],
   "source": [
    "len(titles)"
   ]
  },
  {
   "cell_type": "code",
   "execution_count": 20,
   "metadata": {},
   "outputs": [],
   "source": [
    "text='0'\n",
    "diction={'text':text}\n"
   ]
  },
  {
   "cell_type": "code",
   "execution_count": 21,
   "metadata": {},
   "outputs": [],
   "source": [
    "dictionary={\"text\":filtered_dickens_corp[0][0]['text'],'id':0}"
   ]
  },
  {
   "cell_type": "code",
   "execution_count": 22,
   "metadata": {},
   "outputs": [],
   "source": [
    "processedtext=[]\n",
    "for index,text in enumerate(filtered_dickens_corp):\n",
    "    dictionary={\"text\":filtered_dickens_corp[index][0]['text'],'title':titles[index]}\n",
    "    processedtext.append(dictionary)\n",
    "    \n",
    "    "
   ]
  },
  {
   "cell_type": "markdown",
   "metadata": {},
   "source": [
    "Here we finally created our basic corpus!!"
   ]
  },
  {
   "cell_type": "markdown",
   "metadata": {},
   "source": [
    "Here we input the publish time manually."
   ]
  },
  {
   "cell_type": "code",
   "execution_count": 5,
   "metadata": {},
   "outputs": [
    {
     "ename": "IndexError",
     "evalue": "list index out of range",
     "output_type": "error",
     "traceback": [
      "\u001b[1;31m---------------------------------------------------------------------------\u001b[0m",
      "\u001b[1;31mIndexError\u001b[0m                                Traceback (most recent call last)",
      "\u001b[1;32m<ipython-input-5-112c15efb2d7>\u001b[0m in \u001b[0;36m<module>\u001b[1;34m\u001b[0m\n\u001b[0;32m      1\u001b[0m \u001b[1;32mfor\u001b[0m \u001b[0mtext\u001b[0m \u001b[1;32min\u001b[0m \u001b[0mprocessedtext\u001b[0m\u001b[1;33m:\u001b[0m             \u001b[1;31m#it helps me to filter others out\u001b[0m\u001b[1;33m\u001b[0m\u001b[1;33m\u001b[0m\u001b[0m\n\u001b[0;32m      2\u001b[0m     \u001b[0mtext\u001b[0m\u001b[1;33m[\u001b[0m\u001b[1;34m'publishdate'\u001b[0m\u001b[1;33m]\u001b[0m\u001b[1;33m=\u001b[0m\u001b[1;36m0\u001b[0m\u001b[1;33m\u001b[0m\u001b[1;33m\u001b[0m\u001b[0m\n\u001b[1;32m----> 3\u001b[1;33m \u001b[0mprocessedtext\u001b[0m\u001b[1;33m[\u001b[0m\u001b[1;36m0\u001b[0m\u001b[1;33m]\u001b[0m\u001b[1;33m[\u001b[0m\u001b[1;34m'publishdate'\u001b[0m\u001b[1;33m]\u001b[0m\u001b[1;33m=\u001b[0m\u001b[1;36m1843\u001b[0m\u001b[1;33m\u001b[0m\u001b[1;33m\u001b[0m\u001b[0m\n\u001b[0m\u001b[0;32m      4\u001b[0m \u001b[0mprocessedtext\u001b[0m\u001b[1;33m[\u001b[0m\u001b[1;36m1\u001b[0m\u001b[1;33m]\u001b[0m\u001b[1;33m[\u001b[0m\u001b[1;34m'publishdate'\u001b[0m\u001b[1;33m]\u001b[0m\u001b[1;33m=\u001b[0m\u001b[1;36m1859\u001b[0m\u001b[1;33m\u001b[0m\u001b[1;33m\u001b[0m\u001b[0m\n\u001b[0;32m      5\u001b[0m \u001b[0mprocessedtext\u001b[0m\u001b[1;33m[\u001b[0m\u001b[1;36m2\u001b[0m\u001b[1;33m]\u001b[0m\u001b[1;33m[\u001b[0m\u001b[1;34m'publishdate'\u001b[0m\u001b[1;33m]\u001b[0m\u001b[1;33m=\u001b[0m\u001b[1;36m1870\u001b[0m\u001b[1;33m\u001b[0m\u001b[1;33m\u001b[0m\u001b[0m\n",
      "\u001b[1;31mIndexError\u001b[0m: list index out of range"
     ]
    }
   ],
   "source": [
    "for text in processedtext:             #it helps me to filter others out\n",
    "    text['publishdate']=0\n",
    "processedtext[0]['publishdate']=1843    \n",
    "processedtext[1]['publishdate']=1859\n",
    "processedtext[2]['publishdate']=1870\n",
    "processedtext[3]['publishdate']=1837    #1836-1837\n",
    "processedtext[4]['publishdate']=1854    #1852-1854\n",
    "processedtext[5]['publishdate']=1841    #1840-1841\n",
    "processedtext[6]['publishdate']=1839    #1837-1839\n",
    "processedtext[7]['publishdate']=1850    #1849-1850\n",
    "processedtext[8]['publishdate']=1848    #1846-1848\n",
    "processedtext[9]['publishdate']=1836\n",
    "#then no span here\n",
    "processedtext[10]['publishdate']=1864\n",
    "processedtext[11]['publishdate']=1841\n",
    "processedtext[12]['publishdate']=1857\n",
    "processedtext[13]['publishdate']=1839\n",
    "processedtext[14]['publishdate']=1844\n",
    "processedtext[15]['publishdate']=1853\n",
    "processedtext[16]['publishdate']=1854  #special, maybe a prose, maybe not 1854\n",
    "#17 missing, weird\n",
    "processedtext[18]['publishdate']=1861\n",
    "#19 weird,no wiki, maybe multiple writer\n",
    "processedtext[20]['publishdate']=1860  #with others\n",
    "processedtext[21]['publishdate']=1861  #phrase appears in other article\n",
    "#22 weird\n",
    "#23 unkown\n",
    "#end here\n",
    "\n",
    "# error here is because I accidentally ran it before others for annotations"
   ]
  },
  {
   "cell_type": "code",
   "execution_count": 24,
   "metadata": {},
   "outputs": [],
   "source": [
    "a=0\n",
    "withDateText=[]\n",
    "for text in processedtext:\n",
    "    if text['publishdate']!=0:\n",
    "        withDateText.append(text)   #filter those I haven't give a publish date"
   ]
  },
  {
   "cell_type": "code",
   "execution_count": 25,
   "metadata": {},
   "outputs": [
    {
     "data": {
      "text/plain": [
       "20"
      ]
     },
     "execution_count": 25,
     "metadata": {},
     "output_type": "execute_result"
    }
   ],
   "source": [
    "len(withDateText)"
   ]
  },
  {
   "cell_type": "code",
   "execution_count": 26,
   "metadata": {},
   "outputs": [],
   "source": [
    "def typeTokenRatio(tokens):\n",
    "    return len(set(tokens))/len(tokens)           #set could return type"
   ]
  },
  {
   "cell_type": "code",
   "execution_count": 27,
   "metadata": {},
   "outputs": [],
   "source": [
    "for text in withDateText:\n",
    "    text['token']=nltk.word_tokenize(text['text'])\n",
    "    text['TTR']=typeTokenRatio(text['token'])\n",
    "    text['sentToken']=nltk.sent_tokenize(text['text'])"
   ]
  },
  {
   "cell_type": "code",
   "execution_count": 28,
   "metadata": {},
   "outputs": [
    {
     "name": "stdout",
     "output_type": "stream",
     "text": [
      "0.13186165885949902\n",
      "0.06682558935498205\n",
      "0.0928567763124134\n",
      "0.05057806550698051\n",
      "0.058224602556563844\n",
      "0.054057059590459394\n",
      "0.06273805135766064\n",
      "0.03967563902387273\n",
      "0.041831295510793426\n",
      "0.06306614929542205\n",
      "0.047240927983374634\n",
      "0.04950280180092637\n",
      "0.04468254788734474\n",
      "0.04490263747890269\n",
      "0.04636413685387427\n",
      "0.04096227055318239\n",
      "0.2044281671383386\n",
      "0.054764575730837275\n",
      "0.1613365466032697\n",
      "0.19454210614431608\n"
     ]
    }
   ],
   "source": [
    "for text in withDateText:\n",
    "    print(text['TTR'])                           #first try of type token ratio, but not accurate because the lenghth is different"
   ]
  },
  {
   "cell_type": "code",
   "execution_count": 29,
   "metadata": {},
   "outputs": [],
   "source": [
    "newText=withDateText.sort(key=lambda k: (k.get('publishdate', 0)))    #sort all of the books by time"
   ]
  },
  {
   "cell_type": "code",
   "execution_count": 30,
   "metadata": {},
   "outputs": [
    {
     "name": "stdout",
     "output_type": "stream",
     "text": [
      "1836\n",
      "1837\n",
      "1839\n",
      "1839\n",
      "1841\n",
      "1841\n",
      "1843\n",
      "1844\n",
      "1848\n",
      "1850\n",
      "1853\n",
      "1854\n",
      "1854\n",
      "1857\n",
      "1859\n",
      "1860\n",
      "1861\n",
      "1861\n",
      "1864\n",
      "1870\n"
     ]
    }
   ],
   "source": [
    "for text in withDateText:\n",
    "    print(text['publishdate'])   #sanity check to show all of the dates"
   ]
  },
  {
   "cell_type": "code",
   "execution_count": 31,
   "metadata": {},
   "outputs": [],
   "source": [
    "label=[]\n",
    "for text in withDateText:\n",
    "    label.append(text['title'])"
   ]
  },
  {
   "cell_type": "code",
   "execution_count": 32,
   "metadata": {},
   "outputs": [],
   "source": [
    "clearStatistics=[]\n",
    "for text in withDateText:\n",
    "    a={'TTR':text['TTR'],'publishdate':text['publishdate']}\n",
    "    clearStatistics.append(a)"
   ]
  },
  {
   "cell_type": "code",
   "execution_count": 33,
   "metadata": {},
   "outputs": [],
   "source": [
    "ndf=pd.DataFrame(clearStatistics,index=label)"
   ]
  },
  {
   "cell_type": "code",
   "execution_count": 34,
   "metadata": {},
   "outputs": [],
   "source": [
    "df = pd.DataFrame(withDateText,index=label)"
   ]
  },
  {
   "cell_type": "code",
   "execution_count": 35,
   "metadata": {},
   "outputs": [],
   "source": [
    "rawText=[]\n",
    "for text in withDateText:\n",
    "    rawText.append(text['text'])"
   ]
  },
  {
   "cell_type": "code",
   "execution_count": 36,
   "metadata": {},
   "outputs": [],
   "source": [
    "tfidf = TfidfVectorizer(tokenizer=nltk.word_tokenize, max_features=400)"
   ]
  },
  {
   "cell_type": "code",
   "execution_count": 37,
   "metadata": {},
   "outputs": [],
   "source": [
    "tfMatrix = tfidf.fit_transform(rawText)"
   ]
  },
  {
   "cell_type": "code",
   "execution_count": 38,
   "metadata": {},
   "outputs": [],
   "source": [
    "segments=[]\n",
    "seglabel=[]                                    #segmentation of books, for the nlp function demand that the character is lower than 1000000\n",
    "for text in withDateText:\n",
    "    if(len(text['text']))>1000000:\n",
    "        seglabel.append(text['title']+' volume1')\n",
    "        seglabel.append(text['title']+' volume2')\n",
    "        segments.append(text['text'][:999998])\n",
    "        segments.append(text['text'][999999:])\n",
    "    else:\n",
    "        seglabel.append(text['title'])\n",
    "        segments.append(text['text'])"
   ]
  },
  {
   "cell_type": "code",
   "execution_count": 39,
   "metadata": {},
   "outputs": [],
   "source": [
    "adaptedDocs=[nlp(story) for story in segments]"
   ]
  },
  {
   "cell_type": "code",
   "execution_count": 40,
   "metadata": {},
   "outputs": [],
   "source": [
    "pca3Out=pca3.fit_transform([story.vector for story in adaptedDocs])            #three demensional PCA"
   ]
  },
  {
   "cell_type": "code",
   "execution_count": 41,
   "metadata": {},
   "outputs": [
    {
     "data": {
      "text/plain": [
       "(31, 3)"
      ]
     },
     "execution_count": 41,
     "metadata": {},
     "output_type": "execute_result"
    }
   ],
   "source": [
    "pca3Out.shape"
   ]
  },
  {
   "cell_type": "code",
   "execution_count": 42,
   "metadata": {},
   "outputs": [],
   "source": [
    "df=pd.DataFrame(pca3Out,index=seglabel,columns=['C1','C2','C3'])"
   ]
  },
  {
   "cell_type": "code",
   "execution_count": 43,
   "metadata": {},
   "outputs": [],
   "source": [
    "def plotResults(df, labels):                                                 #function to draw plot\n",
    "    fig = plt.figure(figsize=(10,10))\n",
    "    ax = fig.add_subplot(111, projection='3d')\n",
    "    ax.scatter(df['C1'], df['C2'], df['C3'], marker='o')\n",
    "    for i, label in enumerate(labels):\n",
    "        ax.text(df.iloc[i][0], df.iloc[i][1], df.iloc[i][2], label)"
   ]
  },
  {
   "cell_type": "markdown",
   "metadata": {},
   "source": [
    "There was a 3D PCA here for sanity check but I canceled it later."
   ]
  },
  {
   "cell_type": "code",
   "execution_count": 45,
   "metadata": {},
   "outputs": [
    {
     "name": "stdout",
     "output_type": "stream",
     "text": [
      "303586\n",
      "375044\n",
      "195336\n",
      "396970\n",
      "260780\n",
      "308730\n",
      "35651\n",
      "412323\n",
      "433551\n",
      "433591\n",
      "430274\n",
      "188769\n",
      "12014\n",
      "406266\n",
      "166538\n",
      "15353\n",
      "225529\n",
      "11946\n",
      "400352\n",
      "116922\n"
     ]
    }
   ],
   "source": [
    "minimum=len(withDateText[0]['token'])\n",
    "for text in withDateText:\n",
    "    print(len(text['token']))\n",
    "    if len(text['token'])<minimum:\n",
    "        minimum=len(text['token'])"
   ]
  },
  {
   "cell_type": "code",
   "execution_count": 46,
   "metadata": {},
   "outputs": [],
   "source": [
    "cuttedTokens=[]\n",
    "for text in withDateText:\n",
    "    cuttedTokens.append(text['token'][:minimum-2])"
   ]
  },
  {
   "cell_type": "code",
   "execution_count": 47,
   "metadata": {},
   "outputs": [
    {
     "name": "stdout",
     "output_type": "stream",
     "text": [
      "0.22546885465505692\n",
      "0.24840924313462825\n",
      "0.2234594775619558\n",
      "0.23308774279973207\n",
      "0.19934695244474213\n",
      "0.2160917615539183\n",
      "0.2011888814467515\n",
      "0.23568318821165438\n",
      "0.20847287340924314\n",
      "0.19306764902880108\n",
      "0.22304085733422638\n",
      "0.1976724715338245\n",
      "0.20495646349631613\n",
      "0.21944072337575352\n",
      "0.21073342263898193\n",
      "0.18009042196918956\n",
      "0.18327193569993303\n",
      "0.19457468184862692\n",
      "0.22781312793034159\n",
      "0.22094775619557938\n"
     ]
    }
   ],
   "source": [
    "tokenR=[]\n",
    "for text in cuttedTokens:\n",
    "    print(typeTokenRatio(text))\n",
    "    tokenR.append(typeTokenRatio(text))"
   ]
  },
  {
   "cell_type": "code",
   "execution_count": 48,
   "metadata": {},
   "outputs": [],
   "source": [
    "adaptedTTR=[]\n",
    "for i,text in enumerate(tokenR):\n",
    "    a={'TTR':text,'publishdate':withDateText[i]['publishdate']}\n",
    "    adaptedTTR.append(a)"
   ]
  },
  {
   "cell_type": "code",
   "execution_count": 49,
   "metadata": {},
   "outputs": [],
   "source": [
    "adaptedDf = pd.DataFrame(adaptedTTR, index=label, columns=['TTR', 'publishdate'])"
   ]
  },
  {
   "cell_type": "markdown",
   "metadata": {},
   "source": [
    "Here I created an adapted TTR(type token ratio) test,letting all of the tested text have a same length."
   ]
  },
  {
   "cell_type": "code",
   "execution_count": 50,
   "metadata": {},
   "outputs": [],
   "source": [
    "global cmuDictionary       #it's a dictionary that help to say how many syllabel a word have\n",
    "cmuDictionary=cmudict.dict()"
   ]
  },
  {
   "cell_type": "code",
   "execution_count": 51,
   "metadata": {},
   "outputs": [],
   "source": [
    "def syllable_count(word):    #This function is used to count the syllabel of words that is in cmudick\n",
    "    global cmuDictionary\n",
    "    d=cmuDictionary\n",
    "    try:\n",
    "        syl=[len(list(y for y in x if y[-1].isdigit())) for x in d[word.lower()]][0]\n",
    "    except:\n",
    "        syl=syllable_count_backup(word)\n",
    "    return syl"
   ]
  },
  {
   "cell_type": "code",
   "execution_count": 52,
   "metadata": {},
   "outputs": [],
   "source": [
    "def syllable_count_backup(word): #This function is used to count the syllabel of words that is not included\n",
    "    count=0\n",
    "    word=word.lower()\n",
    "    vow=\"aeiouy\"\n",
    "    if word[0]in vow:\n",
    "        count=count+1\n",
    "    for index in range(1,len(word)):\n",
    "        if word[index] in vow and word[index-1] not in vow:\n",
    "            count=count+1\n",
    "    if word.endswith('e'):\n",
    "        count-=1\n",
    "    if count==0:\n",
    "        count=1\n",
    "    return count"
   ]
  },
  {
   "cell_type": "code",
   "execution_count": 53,
   "metadata": {},
   "outputs": [],
   "source": [
    "def flesch(wordToken,sentToken):\n",
    "    wordnum=1.0*len(wordToken)\n",
    "    sentnum=1.0*len(sentToken)\n",
    "    syllnum=0\n",
    "    for word in wordToken:\n",
    "        syllnum+=syllable_count(word)\n",
    "    rate=206.835-1.015*wordnum/sentnum-84.6*(1.0*syllnum)/wordnum    #both are formula of readability\n",
    "    level=0.39*wordnum/sentnum+11.8*syllnum/wordnum-15.59\n",
    "    print(rate,level)\n",
    "    return(rate,level)"
   ]
  },
  {
   "cell_type": "code",
   "execution_count": 54,
   "metadata": {},
   "outputs": [
    {
     "name": "stdout",
     "output_type": "stream",
     "text": [
      "57.00595222036539 12.621166843136297\n",
      "68.4645118836346 9.322298948633097\n",
      "73.91202713314023 8.22131022180682\n",
      "68.62901422007684 9.667819120904593\n",
      "70.16423307255037 9.757752569282392\n",
      "71.66479983097302 9.373392452989577\n",
      "81.66358661413322 6.422471668392795\n",
      "73.81312669690674 8.173548503424154\n",
      "70.2192952567497 9.454477877711188\n",
      "74.21120102157401 8.395954912046829\n",
      "74.33484005546283 8.066979647567358\n",
      "59.44086515373509 13.485680451048271\n",
      "67.71947526092507 10.505777056811898\n",
      "71.13815267985218 8.846744737560986\n",
      "74.38429989869637 8.187041802105629\n",
      "74.21044624495448 8.696189331747455\n",
      "75.14009722682422 8.483098730030438\n",
      "69.13473783246609 9.66065507615226\n",
      "75.28234650645804 7.6408347995245585\n",
      "72.46861696621536 8.249108969869479\n"
     ]
    }
   ],
   "source": [
    "for i,text in enumerate(withDateText):               #here I showed the readability scores and levels for each book in the list\n",
    "    result=flesch(text['token'],text['sentToken'])\n",
    "    text['readability_score']=result[0]\n",
    "    text['readability_level']=result[1]"
   ]
  },
  {
   "cell_type": "code",
   "execution_count": 55,
   "metadata": {},
   "outputs": [
    {
     "name": "stdout",
     "output_type": "stream",
     "text": [
      "Sketches by Boz, Illustrative of Every-Day Life and Every-Day People 57.00595222036539 12.621166843136297\n",
      "The Pickwick Papers 68.4645118836346 9.322298948633097\n",
      "Oliver Twist 73.91202713314023 8.22131022180682\n",
      "Nicholas Nickleby 68.62901422007684 9.667819120904593\n",
      "The Old Curiosity Shop 70.16423307255037 9.757752569282392\n",
      "Barnaby Rudge: A Tale of the Riots of 'Eighty 71.66479983097302 9.373392452989577\n",
      "A Christmas Carol in Prose; Being a Ghost Story of Christmas 81.66358661413322 6.422471668392795\n",
      "Martin Chuzzlewit 73.81312669690674 8.173548503424154\n",
      "Dombey and Son 70.2192952567497 9.454477877711188\n",
      "David Copperfield 74.21120102157401 8.395954912046829\n",
      "Bleak House 74.33484005546283 8.066979647567358\n",
      "A Child's History of England 59.44086515373509 13.485680451048271\n",
      "The Seven Poor Travellers 67.71947526092507 10.505777056811898\n",
      "Little Dorrit 71.13815267985218 8.846744737560986\n",
      "A Tale of Two Cities 74.38429989869637 8.187041802105629\n",
      "A Message from the Sea 74.21044624495448 8.696189331747455\n",
      "Great Expectations 75.14009722682422 8.483098730030438\n",
      "Tom Tiddler's Ground 69.13473783246609 9.66065507615226\n",
      "Our Mutual Friend 75.28234650645804 7.6408347995245585\n",
      "The Mystery of Edwin Drood 72.46861696621536 8.249108969869479\n"
     ]
    }
   ],
   "source": [
    "for text in withDateText:\n",
    "    print(text['title'],text['readability_score'],text['readability_level'])"
   ]
  },
  {
   "cell_type": "code",
   "execution_count": 56,
   "metadata": {},
   "outputs": [],
   "source": [
    "readabilityDF = pd.DataFrame(withDateText,index=label)"
   ]
  },
  {
   "cell_type": "code",
   "execution_count": 57,
   "metadata": {},
   "outputs": [
    {
     "data": {
      "text/plain": [
       "<matplotlib.axes._subplots.AxesSubplot at 0x228f3c31390>"
      ]
     },
     "execution_count": 57,
     "metadata": {},
     "output_type": "execute_result"
    },
    {
     "data": {
      "image/png": "[encoded data removed]",
      "text/plain": [
       "<Figure size 432x288 with 1 Axes>"
      ]
     },
     "metadata": {
      "needs_background": "light"
     },
     "output_type": "display_data"
    }
   ],
   "source": [
    "readabilityDF.plot(x='publishdate',y='readability_level',kind='scatter',title='readability level')"
   ]
  },
  {
   "cell_type": "markdown",
   "metadata": {},
   "source": [
    "Here I calculate and plot the readability of each text."
   ]
  },
  {
   "cell_type": "code",
   "execution_count": 58,
   "metadata": {},
   "outputs": [
    {
     "data": {
      "image/png": "[encoded data removed]",
      "text/plain": [
       "<Figure size 432x288 with 1 Axes>"
      ]
     },
     "metadata": {
      "needs_background": "light"
     },
     "output_type": "display_data"
    }
   ],
   "source": [
    "ax = adaptedDf.plot(x='publishdate', y='TTR', kind='scatter',title='type token ratio') #here's a plot for type token ratio and it's like the readability, \n",
    "                                                                                       #for it is also declining\n"
   ]
  },
  {
   "cell_type": "code",
   "execution_count": 59,
   "metadata": {},
   "outputs": [],
   "source": [
    "oriLabel=[]\n",
    "for lab in seglabel:\n",
    "    if lab.endswith(\"volume1\"):\n",
    "        oriLabel.append(lab[:-8])\n",
    "    elif lab.endswith(\"volume2\"):\n",
    "        continue\n",
    "    else:\n",
    "        oriLabel.append(lab)"
   ]
  },
  {
   "cell_type": "code",
   "execution_count": 60,
   "metadata": {},
   "outputs": [],
   "source": [
    "def calsenti(lemmaList):    # an function to calculate the sentiments scores for a set of sentences\n",
    "    sentScores = []\n",
    "    for sent in lemmaList: \n",
    "        scores = []\n",
    "        for word, pos in sent: \n",
    "            synPos = pos.lower()[0]\n",
    "            if synPos not in ['a', 'n', 'v']:\n",
    "                continue\n",
    "            synsets = list(sw.senti_synsets(word, synPos))\n",
    "            #print(synsets)\n",
    "            if (type(synsets) == list) and len(synsets)>0:\n",
    "                #print('yay!')\n",
    "                synset = synsets[0]\n",
    "                score = synset.pos_score() - synset.neg_score()\n",
    "                scores.append(score)\n",
    "        if len(scores)>0: \n",
    "            avgScores = sum(scores) / len(scores)\n",
    "            sentScores.append(avgScores)\n",
    "    return sentScores"
   ]
  },
  {
   "cell_type": "code",
   "execution_count": 61,
   "metadata": {},
   "outputs": [
    {
     "name": "stdout",
     "output_type": "stream",
     "text": [
      "Sketches by Boz, Illustrative of Every-Day Life and Every-Day People volume1\n",
      "Sketches by Boz, Illustrative of Every-Day Life and Every-Day People volume2\n",
      "The Pickwick Papers volume1\n",
      "The Pickwick Papers volume2\n",
      "Oliver Twist\n",
      "Nicholas Nickleby volume1\n",
      "Nicholas Nickleby volume2\n",
      "The Old Curiosity Shop volume1\n",
      "The Old Curiosity Shop volume2\n",
      "Barnaby Rudge: A Tale of the Riots of 'Eighty volume1\n",
      "Barnaby Rudge: A Tale of the Riots of 'Eighty volume2\n",
      "A Christmas Carol in Prose; Being a Ghost Story of Christmas\n",
      "Martin Chuzzlewit volume1\n",
      "Martin Chuzzlewit volume2\n",
      "Dombey and Son volume1\n",
      "Dombey and Son volume2\n",
      "David Copperfield volume1\n",
      "David Copperfield volume2\n",
      "Bleak House volume1\n",
      "Bleak House volume2\n",
      "A Child's History of England\n",
      "The Seven Poor Travellers\n",
      "Little Dorrit volume1\n",
      "Little Dorrit volume2\n",
      "A Tale of Two Cities\n",
      "A Message from the Sea\n",
      "Great Expectations\n",
      "Tom Tiddler's Ground\n",
      "Our Mutual Friend volume1\n",
      "Our Mutual Friend volume2\n",
      "The Mystery of Edwin Drood\n"
     ]
    }
   ],
   "source": [
    "chapterScores=[]                                              #calculate the sentiments scores and variance for each book\n",
    "chapterVariance=[]\n",
    "for i,text in enumerate(adaptedDocs):\n",
    "    print(seglabel[i])#to show\n",
    "    lemmaList = []\n",
    "    for sent in text.sents: \n",
    "        sentLemmaList = []\n",
    "        for w in sent: \n",
    "            if (not w.is_stop) and (not w.is_punct) and (not w.is_space) and (w.pos_ is not 'PROPN'): \n",
    "                sentLemmaList.append((w.lemma_, w.pos_))\n",
    "        lemmaList.append(sentLemmaList)\n",
    "    sentScores = []\n",
    "    sentScores=calsenti(lemmaList)\n",
    "    if len(sentScores)>0:\n",
    "        avgSentScores=sum(sentScores)/len(sentScores)\n",
    "        chapterScores.append(avgSentScores)\n",
    "        temp=0\n",
    "        for x in sentScores:\n",
    "            temp+=(x-avgSentScores)*(x-avgSentScores)\n",
    "        varianceSentScores=temp/len(sentScores)\n",
    "        chapterVariance.append(varianceSentScores)"
   ]
  },
  {
   "cell_type": "code",
   "execution_count": 62,
   "metadata": {},
   "outputs": [
    {
     "name": "stdout",
     "output_type": "stream",
     "text": [
      "Sketches by Boz, Illustrative of Every-Day Life and Every-Day People volume1 0.0036503389091866404\n",
      "Sketches by Boz, Illustrative of Every-Day Life and Every-Day People volume2 0.01964703225029911\n",
      "The Pickwick Papers volume1 0.011458765147910159\n",
      "The Pickwick Papers volume2 0.01542032619280133\n",
      "Oliver Twist 0.0032293607158141147\n",
      "Nicholas Nickleby volume1 0.013484271875992417\n",
      "Nicholas Nickleby volume2 0.004668585287810624\n",
      "The Old Curiosity Shop volume1 0.006887235611753066\n",
      "The Old Curiosity Shop volume2 0.018350816325201774\n",
      "Barnaby Rudge: A Tale of the Riots of 'Eighty volume1 0.003030318438765262\n",
      "Barnaby Rudge: A Tale of the Riots of 'Eighty volume2 0.012285172246859766\n",
      "A Christmas Carol in Prose; Being a Ghost Story of Christmas 0.006951230659389607\n",
      "Martin Chuzzlewit volume1 0.01211595878976506\n",
      "Martin Chuzzlewit volume2 0.003951375987972047\n",
      "Dombey and Son volume1 0.009389551576357893\n",
      "Dombey and Son volume2 0.003264859256179905\n",
      "David Copperfield volume1 0.006738691966190028\n",
      "David Copperfield volume2 0.005100769089163518\n",
      "Bleak House volume1 0.007900241152209903\n",
      "Bleak House volume2 0.008904706236530769\n",
      "A Child's History of England 0.003546838593556376\n",
      "The Seven Poor Travellers -0.01121708152958153\n",
      "Little Dorrit volume1 0.007374875632192439\n",
      "Little Dorrit volume2 0.0062010546346767045\n",
      "A Tale of Two Cities 0.0031558674046971652\n",
      "A Message from the Sea 0.024076680781756107\n",
      "Great Expectations 0.008621765416411343\n",
      "Tom Tiddler's Ground -0.006304704209951536\n",
      "Our Mutual Friend volume1 0.004929439673677492\n",
      "Our Mutual Friend volume2 0.01950477207250313\n",
      "The Mystery of Edwin Drood 0.007039927528531296\n"
     ]
    }
   ],
   "source": [
    "materialScores=[]                                #calculate the author's attitude to each book\n",
    "materialWords=['money','cash','coin','house','business','wealth','merchant','treasure','possesion','power']\n",
    "for i,text in enumerate(adaptedDocs):\n",
    "    lemmaList = []\n",
    "    for sent in text.sents: \n",
    "        sentLemmaList = []\n",
    "        for x in sent:\n",
    "            if x.lemma_ in materialWords:\n",
    "                for w in sent: \n",
    "                    if (not w.is_stop) and (not w.is_punct) and (not w.is_space) and (w.pos_ is not 'PROPN'): \n",
    "                        sentLemmaList.append((w.lemma_, w.pos_))\n",
    "                continue\n",
    "        lemmaList.append(sentLemmaList)\n",
    "    sentScores = []\n",
    "    sentScores=calsenti(lemmaList)\n",
    "    if len(sentScores)>0:\n",
    "        avgSentScores=sum(sentScores)/len(sentScores)\n",
    "        materialScores.append(avgSentScores)\n",
    "    print(seglabel[i],avgSentScores)#to show"
   ]
  },
  {
   "cell_type": "code",
   "execution_count": 63,
   "metadata": {},
   "outputs": [],
   "source": [
    "wholeChapterScores=[]                                    #adding the segments back to the book\n",
    "wholeChapterVariance=[]\n",
    "wholeMaterialScores=[]\n",
    "for i,lab in enumerate(seglabel):\n",
    "    if lab.endswith('volume1'):\n",
    "        wholeChapterScores.append((chapterScores[i]+chapterScores[i+1])/2)\n",
    "        wholeChapterVariance.append((chapterVariance[i]+chapterVariance[i+1])/2)\n",
    "        wholeMaterialScores.append((materialScores[i]+materialScores[i+1])/2)\n",
    "    elif lab.endswith('volume2'):\n",
    "        continue\n",
    "    else:\n",
    "        wholeChapterScores.append(chapterScores[i])\n",
    "        wholeChapterVariance.append(chapterVariance[i])\n",
    "        wholeMaterialScores.append(materialScores[i])"
   ]
  },
  {
   "cell_type": "code",
   "execution_count": 64,
   "metadata": {},
   "outputs": [],
   "source": [
    "relativeMaterialScores=[]\n",
    "for i,score in enumerate(wholeMaterialScores): \n",
    "    relativeMaterialScores.append(score-wholeChapterScores[i])"
   ]
  },
  {
   "cell_type": "code",
   "execution_count": 65,
   "metadata": {},
   "outputs": [
    {
     "name": "stdout",
     "output_type": "stream",
     "text": [
      "Sketches by Boz, Illustrative of Every-Day Life and Every-Day People volume1\n",
      "Sketches by Boz, Illustrative of Every-Day Life and Every-Day People volume2\n",
      "The Pickwick Papers volume1\n",
      "The Pickwick Papers volume2\n",
      "Oliver Twist\n",
      "Nicholas Nickleby volume1\n",
      "Nicholas Nickleby volume2\n",
      "The Old Curiosity Shop volume1\n",
      "The Old Curiosity Shop volume2\n",
      "Barnaby Rudge: A Tale of the Riots of 'Eighty volume1\n",
      "Barnaby Rudge: A Tale of the Riots of 'Eighty volume2\n",
      "A Christmas Carol in Prose; Being a Ghost Story of Christmas\n",
      "Martin Chuzzlewit volume1\n",
      "Martin Chuzzlewit volume2\n",
      "Dombey and Son volume1\n",
      "Dombey and Son volume2\n",
      "David Copperfield volume1\n",
      "David Copperfield volume2\n",
      "Bleak House volume1\n",
      "Bleak House volume2\n",
      "A Child's History of England\n",
      "The Seven Poor Travellers\n",
      "Little Dorrit volume1\n",
      "Little Dorrit volume2\n",
      "A Tale of Two Cities\n",
      "A Message from the Sea\n",
      "Great Expectations\n",
      "Tom Tiddler's Ground\n",
      "Our Mutual Friend volume1\n",
      "Our Mutual Friend volume2\n",
      "The Mystery of Edwin Drood\n"
     ]
    }
   ],
   "source": [
    "beginScores=[]                                                #calculating whether the story has a good end\n",
    "endScores=[]\n",
    "differenceScores=[]\n",
    "for i,text in enumerate(adaptedDocs):\n",
    "    print(seglabel[i])#to show\n",
    "    lemmaList1 = []\n",
    "    lemmaList2 = []\n",
    "    if seglabel[i].endswith('volume1'):\n",
    "        for sent in list(text.sents)[:50]:   #list\n",
    "            sentLemmaList = []\n",
    "            for w in sent: \n",
    "                if (not w.is_stop) and (not w.is_punct) and (not w.is_space) and (w.pos_ is not 'PROPN'): \n",
    "                    sentLemmaList.append((w.lemma_, w.pos_))\n",
    "            lemmaList1.append(sentLemmaList)\n",
    "        for sent in list(adaptedDocs[i+1].sents)[-50:]:\n",
    "            sentLemmaList = []\n",
    "            for w in sent: \n",
    "                if (not w.is_stop) and (not w.is_punct) and (not w.is_space) and (w.pos_ is not 'PROPN'): \n",
    "                    sentLemmaList.append((w.lemma_, w.pos_))\n",
    "            lemmaList2.append(sentLemmaList)\n",
    "    elif seglabel[i].endswith('volume2'):\n",
    "        continue\n",
    "    else:\n",
    "        for sent in list(text.sents)[:50]: \n",
    "            sentLemmaList = []\n",
    "            for w in sent: \n",
    "                if (not w.is_stop) and (not w.is_punct) and (not w.is_space) and (w.pos_ is not 'PROPN'): \n",
    "                    sentLemmaList.append((w.lemma_, w.pos_))\n",
    "            lemmaList1.append(sentLemmaList)\n",
    "        for sent in list(text.sents)[-50:]:\n",
    "            sentLemmaList = []\n",
    "            for w in sent: \n",
    "                if (not w.is_stop) and (not w.is_punct) and (not w.is_space) and (w.pos_ is not 'PROPN'): \n",
    "                    sentLemmaList.append((w.lemma_, w.pos_))\n",
    "            lemmaList2.append(sentLemmaList)        \n",
    "        \n",
    "        \n",
    "    sentScoresOne = []\n",
    "    sentScoresTwo = []\n",
    "    sentScoresOne=calsenti(lemmaList1)\n",
    "    sentScoresTwo=calsenti(lemmaList2)\n",
    "    if len(sentScoresOne)>0 and len(sentScoresTwo)>0:\n",
    "        beginScores.append(sum(sentScoresOne)/len(sentScoresOne))\n",
    "        endScores.append(sum(sentScoresTwo)/len(sentScoresTwo))\n",
    "        differenceScores.append(sum(sentScoresOne)/len(sentScoresOne)-sum(sentScoresTwo)/len(sentScoresTwo))"
   ]
  },
  {
   "cell_type": "markdown",
   "metadata": {},
   "source": [
    "I calculated some variables about the sentimens and finally got my plots here."
   ]
  },
  {
   "cell_type": "code",
   "execution_count": 66,
   "metadata": {},
   "outputs": [
    {
     "data": {
      "image/png": "[encoded data removed]",
      "text/plain": [
       "<Figure size 720x720 with 4 Axes>"
      ]
     },
     "metadata": {
      "needs_background": "light"
     },
     "output_type": "display_data"
    }
   ],
   "source": [
    "plt.subplot(2,2,1)                              #drawing our plots\n",
    "pd.Series(wholeChapterScores).plot(kind='bar',figsize=(10,10),title='books sent score')\n",
    "plt.subplot(2,2,2)\n",
    "pd.Series(wholeChapterVariance).plot(kind='bar',title='book sent variance')\n",
    "plt.subplot(2,2,3)# \"money, money, money, and what money can make of life.\"\n",
    "pd.Series(relativeMaterialScores,index=oriLabel).plot(kind='bar',title='book relative attitude to material')\n",
    "plt.subplot(2,2,4)\n",
    "pd.Series(differenceScores,index=oriLabel).plot(kind='bar',title='whether it is a happy ending')\n",
    "plt.show()"
   ]
  },
  {
   "cell_type": "markdown",
   "metadata": {},
   "source": [
    "## Readability Test of Each Books\n",
    "My test about the readability of each work actually give me a really good result. I choose to use Flesch-Kincaid grading standard to calculate whether his book is hard to read, the grading level itself might shows how hard the text is. This method was designed in 1943 and was widely accepted by scholars. The higher the level is(and the lower the flesch readability score is), the harder the text is. The formula and basic concept of Flesch's system is kind of easy to understand. It only include the average sentence length and average word length in syllabel to calculate the scores of readability, and the calculation of readability level is quite the same. Here's the formula of the readability score:  \n",
    "Reading Ease score = 206.835 − (1.015 × ASL) − (84.6 × ASW)  \n",
    "Readability Grade Level= 0.39*ASL+ 11.8*ASW -15.59  \n",
    "ASL = average sentence length (number of words divided by number of sentences)  \n",
    "ASW = average word length in syllables (number of syllables divided by number of words)  \n",
    "\n",
    "And the result turns out that Charles Dickens' works actually has a declining trend in the readability levels. The lower the readability level is, the easier the text is, so Charles Dickens' works actually got easier to read in his life time. There is and exception, which has the highest readability level among all of the books, this one was written when Charles Dickens was in his midlife, and this book is called _A Child's History of England_, it is really interesting because the least readable book among all of Charles' works is a book written for children. But this also make sense because this could also explain why Charles Dickens's works so popular in England. For _A Child's History of England_ is a book about British history, so it will inevitably include the words about history, which maybe longer in syllabels and could be really hard to read. And most of his books are novels and stories, even though these book are for adults, but they are still easier to read than the history book for children, that make Charles Dickens novels kind of like pulp fictions compared with his history book but that also make his works could be read by every class in British society, and Charles Dickens is famous for depicting people's life vividly and himself didn't get really much formal education when he was young, all of these makes Charles Dickens wrote his novels in plain and straightforward words and people liked him for that. And the _A Child's History of England_ is still a good book because it is easier to read than other history book, like _the History of Decline and Fall of the Roman Empire_ written by Edward Gibbon.  \n",
    "\n",
    "\n",
    "\n",
    "\n",
    "\n"
   ]
  },
  {
   "cell_type": "code",
   "execution_count": 57,
   "metadata": {},
   "outputs": [
    {
     "data": {
      "text/plain": [
       "<matplotlib.axes._subplots.AxesSubplot at 0x228f3c31390>"
      ]
     },
     "execution_count": 57,
     "metadata": {},
     "output_type": "execute_result"
    },
    {
     "data": {
      "image/png": "[encoded data removed]",
      "text/plain": [
       "<Figure size 432x288 with 1 Axes>"
      ]
     },
     "metadata": {
      "needs_background": "light"
     },
     "output_type": "display_data"
    }
   ],
   "source": [
    "readabilityDF.plot(x='publishdate',y='readability_level',kind='scatter',title='readability level')"
   ]
  },
  {
   "cell_type": "markdown",
   "metadata": {},
   "source": [
    "Here I get an example about the text in the _A child's history of England_ _\"It seems to have been brought over, in very early times indeed, from the opposite country of France, anciently called Gaul, and to have mixed up the worship of the Serpent, and of the Sun and Moon, with the worship of some of the Heathen Gods and Goddesses\"_, the sentences is really long even the author used many commas, it's like that Charles Dickens wrote a story for kids but he didn't really now where to stop the sentences. And some weird words must be used in those sentences to explain the events in history. These reasons might cause the low readability of this book compared with other works."
   ]
  },
  {
   "cell_type": "markdown",
   "metadata": {},
   "source": [
    "The first of his work, the _Sketches by Boz_, has an abnormally high readability level, this could also explain why Charles Dickens changed his style to let his works easier to read in some degree. For even though he received much attention from people after the publish of _Sketches by Boz_, his first book, Dickens's literary success began with the 1836 serial publication of _The Pickwick Papers_(it was Dickens' second work in his life), which is far more easier to read than the _Sketches by Boz_, but we also need to remember that the _Sketches by Boz_ is a prose and Charles Dickens has included many of his ideas and personal thoughts about this country so it is normal that it have higher readability level than other works."
   ]
  },
  {
   "cell_type": "markdown",
   "metadata": {},
   "source": [
    "## Sentiments analysis about all of the works  \n",
    "I also run several sentiments analysis to find out whether Charles Dickens works get sadder through his age, and the result is shown in the plot whose name is _book sent score_, I calculate the sentiment scores(could show whether the emotion in this text is positive) and get the average value of them for each sentence and each book, and the result shows that the sentiments scores of Dickens' book is kind of following a normal kind distribution, for his work get higher sentiment scores in his middle age and is a little bit sadder in his early and late years. And this plot could also explain why people think Charles Dickens work is sad, for his work is way sadder than other people's. For there is an exception which has it index as 15, this book is the _A Message from the Sea_, written by Charles Dickens, Wilkie Collins, Robert Buchanan, Charles Allston Collins, Amelia Edwards, and Harriet Parr. It was written in 1860 for the Christmas issue of All the Year Round. This indicates that cooperating with other writers may drastically increase Dickens' work's sentiments scores, this could shows that Charles Dickens work is sadder than other writer, for example, Wilkie Collins. And some authors(like Oscar Wilde) at Charles' time even criticized Charles for his sentimentalism.  \n",
    "\n",
    "I also tried to figure out a way to quantify the changes of emotion in Charles Dickens works. The way of doing so is to get the variance of sentiment scores of each sentence in the whole books. If the variance is big, it means that the emotion in different sentences vary from each other, so this will show that the emotions are drastically changed in this book. This could also indicate that there are more conflicts in this book. There are two exceptions in this plot, which is _the Child's History of England_ and _Seven Poor Travelers_, one of them is a history book and the other is mainly about criticizing British colonization policy, it makes sense that there will be less emotion changes in these books. If we don't include two exceptions in the plot, we could see that the variance of sentiments scores is actually rising, so this shows that as Charles Dickens got mature as an author, his works actually have more conflicts and more changes in emotion. There is a certain kind of plots that Charles really like to use called the cliffhanger, he used these to set more suspense to stories and call the attention of readers and make them continue to purchase the latter chapters of the book. Those cliffhangers are basically great changes in the book, it ends each chapter with ambiguity, so when the latter chapters are published, the emotion of the story will get back to normal and will be changed again when other great changes happens, maybe the use of cliffhangers explain the high variance of sentiments scores in Charles' works. The increasing variance in emotions also makes Charles' works more popular among the readers."
   ]
  },
  {
   "cell_type": "code",
   "execution_count": 66,
   "metadata": {},
   "outputs": [
    {
     "data": {
      "image/png": "[encoded data removed]",
      "text/plain": [
       "<Figure size 720x720 with 4 Axes>"
      ]
     },
     "metadata": {
      "needs_background": "light"
     },
     "output_type": "display_data"
    }
   ],
   "source": [
    "plt.subplot(2,2,1)\n",
    "pd.Series(wholeChapterScores).plot(kind='bar',figsize=(10,10),title='books sent score')\n",
    "plt.subplot(2,2,2)\n",
    "pd.Series(wholeChapterVariance).plot(kind='bar',title='book sent variance')\n",
    "plt.subplot(2,2,3)# \"money, money, money, and what money can make of life.\"\n",
    "pd.Series(relativeMaterialScores,index=oriLabel).plot(kind='bar',title='book relative attitude to material')\n",
    "plt.subplot(2,2,4)\n",
    "pd.Series(differenceScores,index=oriLabel).plot(kind='bar',title='whether it is a happy ending')\n",
    "plt.show()"
   ]
  },
  {
   "cell_type": "markdown",
   "metadata": {},
   "source": [
    "The part I loved the most is my test about Charles' relative attitude toward material world. I set this standard by myself and it really showed something interesting. At first, for each book, I calculate the average sentiments scores of sentences which contained words in a material word set. The material words set is designed by myself, it contained words about the material and money, which could indicate the material world. Then I use these absolute material scores to minus the average book sentiments scores to get the relative attitude's to material. I did so because I wanted cancel the influence of the total genre of the book to only see the author's attitude toward these words(if the whole book is sad, of course the sentences containing material words is also kind of sad). And the result really means something to me, it shows a period of time when Charles Dickens was really cynical about money, scholars name a genre _the Hard Time_ genre. _The Hard Time_ is a book of Charles Dickens, and it is also a genre. And many his other book also has this hard time genre. In that time, Dickens moved into Tavistock House where he wrote Bleak House (1852–53), Hard Times (1854), and Little Dorrit (1856), and the book _the Seven Poor Travelers_ was also written near that time. This genre really showed Charles Dickens' criticism and sarcasism toward the material life in the Victorian Era.He was a fierce critic of the poverty and social stratification of Victorian society, and his most strident indictment of this condition is in Hard Times. From then, he started to argue that wealth could bring people miserable lives, and others, like Karl Marx asserted that Dickens \"issued to the world more political and social truths than have been uttered by all the professional politicians, publicists and moralists put together\", this also shows that his hatred to material world and people in higher social class who are exploiting labors, in those books, Charles Dickens was also indicated that \" the heavy burden on the poor who were forced by circumstances to \"go to law\".\" is really a problem at that time.\n",
    "\n",
    "The last picture, a picture which could tell whether a story has a good end, was gave out by calculating the difference the sentiments scores of the final parts of the book and the starting parts, it turns out that Charles Dickens tended to wrote the bad ends and good ends in turns, and the result of _the Little Dorrit_ also explained Charles Dickens criticism toward material, for in the last part of the book, the Dorrit's family got extremely rich but also suffered from the wealth they got, so it makes _the Little Dorrit_ the book with the worst ending.\n",
    "\n",
    "In conclusion, I found out that most of my hypothesis are not exactly what the truth is, Charles Dickens works is not exactly getting sadder when he got old, it seems follow a kind of normal distribution, he actually got more positive in his middle age. Charles Dickens' works were getting easier to read when he got old and he had a really passive attitude toward material in his middle age comparing to other periods of time in his life, and the genre continued until he got old."
   ]
  }
 ],
 "metadata": {
  "kernelspec": {
   "display_name": "Python 3",
   "language": "python",
   "name": "python3"
  },
  "language_info": {
   "codemirror_mode": {
    "name": "ipython",
    "version": 3
   },
   "file_extension": ".py",
   "mimetype": "text/x-python",
   "name": "python",
   "nbconvert_exporter": "python",
   "pygments_lexer": "ipython3",
   "version": "3.7.3"
  }
 },
 "nbformat": 4,
 "nbformat_minor": 2
}
